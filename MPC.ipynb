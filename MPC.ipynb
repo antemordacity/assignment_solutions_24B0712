{
 "cells": [
  {
   "cell_type": "markdown",
   "metadata": {},
   "source": [
    " #### 1.a "
   ]
  },
  {
   "cell_type": "code",
   "execution_count": 1011,
   "metadata": {},
   "outputs": [
    {
     "name": "stdout",
     "output_type": "stream",
     "text": [
      "         A\n",
      "        BAB\n",
      "       CBABC\n",
      "      DCBABCD\n",
      "     EDCBABCDE\n",
      "    FEDCBABCDEF\n",
      "   GFEDCBABCDEFG\n",
      "  HGFEDCBABCDEFGH\n",
      " IHGFEDCBABCDEFGHI\n",
      "JIHGFEDCBABCDEFGHIJ\n",
      "     A\n",
      "    BAB\n",
      "   CBABC\n",
      "  DCBABCD\n",
      " EDCBABCDE\n",
      "FEDCBABCDEF\n"
     ]
    }
   ],
   "source": [
    "def F(n):\n",
    "    s  =  \" \"\n",
    "    a  =  1\n",
    "    ch  =  65\n",
    "    for i in range(1,n+1):\n",
    "        print((n-i)*s, end = '')\n",
    "        for j in range(1, a+1):\n",
    "            if j <= (a+1)/2:\n",
    "                print(chr(ch+i-j), end = '')\n",
    "            else:\n",
    "                print(chr(ch+j-(a+1)//2), end = '')\n",
    "        a +=  2\n",
    "        print()\n",
    "#tests\n",
    "F(10)\n",
    "F(6)"
   ]
  },
  {
   "cell_type": "markdown",
   "metadata": {},
   "source": [
    "#### 1.b"
   ]
  },
  {
   "cell_type": "code",
   "execution_count": 1012,
   "metadata": {},
   "outputs": [
    {
     "name": "stdout",
     "output_type": "stream",
     "text": [
      "by keys:\n",
      "1 1 2\n",
      "2 -1 4\n",
      "4 2 3\n",
      "5 -4 3\n",
      "by x-s:\n",
      "4 2 3\n",
      "1 1 2\n",
      "2 -1 4\n",
      "5 -4 3\n",
      "by y-s:\n",
      "1 1 2\n",
      "4 2 3\n",
      "5 -4 3\n",
      "2 -1 4\n",
      "by keys:\n",
      "-8 4 2\n",
      "5 9 -10\n",
      "6 -3 4\n",
      "7 2 1\n",
      "by x-s:\n",
      "5 9 -10\n",
      "-8 4 2\n",
      "7 2 1\n",
      "6 -3 4\n",
      "by y-s:\n",
      "5 9 -10\n",
      "7 2 1\n",
      "-8 4 2\n",
      "6 -3 4\n"
     ]
    }
   ],
   "source": [
    "def F(d : dict):\n",
    "    keys  =  sorted(d.keys())\n",
    "    l  =  []\n",
    "    print(\"by keys:\")\n",
    "    for i in keys:\n",
    "        print(i, d[i][0],d[i][1])\n",
    "        l.append((d[i][0], d[i][1], i))\n",
    "    x  =  sorted(l, key  =  lambda x : x[0], reverse  =  True)\n",
    "    y  =  sorted(l, key  =  lambda x : x[1])\n",
    "    print(\"by x-s:\")\n",
    "    for j in range(len(x)):\n",
    "        print(x[j][2], x[j][0], x[j][1])\n",
    "    print(\"by y-s:\")\n",
    "    for k in range(len(y)):\n",
    "        print(y[k][2], y[k][0], y[k][1])\n",
    "\n",
    "# Tests\n",
    "F({1 : (1, 2), 2 : (-1, 4), 5 : (-4, 3), 4 : (2, 3)})\n",
    "F({-8 : (4, 2), 6 : (-3, 4), 7 : (2, 1), 5 : (9, -10)})"
   ]
  },
  {
   "cell_type": "markdown",
   "metadata": {},
   "source": [
    "#### 3.a"
   ]
  },
  {
   "cell_type": "code",
   "execution_count": 1013,
   "metadata": {},
   "outputs": [
    {
     "name": "stdout",
     "output_type": "stream",
     "text": [
      " message: Positive directional derivative for linesearch\n",
      " success: False\n",
      "  status: 8\n",
      "     fun: 1023.9573417650677\n",
      "       x: [-4.165e-05 -3.000e+00]\n",
      "     nit: 35\n",
      "     jac: [-1.024e+03 -2.048e+03]\n",
      "    nfev: 265\n",
      "    njev: 31\n"
     ]
    }
   ],
   "source": [
    "import numpy as np\n",
    "from scipy.optimize import minimize\n",
    "\n",
    "def f(r):\n",
    "    x, y = r\n",
    "    return (2*(x - y - 3)**2 + 4*(x+ 2*y + 2)**4)\n",
    "\n",
    "def constraints(r):\n",
    "    x, y = r\n",
    "    return (x - y -3, 5 - (x+2)**2 - (y + 1)**2) \n",
    "\n",
    "con = {'type': 'ineq', 'fun': constraints}\n",
    "result = minimize(f, [0,0], constraints = [con], method = 'SLSQP') # SLSQP returned smallest value/other methods encountered errors\n",
    "print(result)"
   ]
  },
  {
   "cell_type": "markdown",
   "metadata": {},
   "source": [
    "#### 3.b"
   ]
  },
  {
   "cell_type": "code",
   "execution_count": 1014,
   "metadata": {},
   "outputs": [
    {
     "name": "stdout",
     "output_type": "stream",
     "text": [
      "(53.018685546149165, 2.551405713023626e-08)\n"
     ]
    }
   ],
   "source": [
    "from scipy.integrate import quad\n",
    "import numpy as np\n",
    "import math\n",
    "def f(x, y): # the scalar function\n",
    "    return x**2 + y**4\n",
    "\n",
    "def g(r, u): # path paramterization; ndarrays returned\n",
    "    return (r*np.cos(u), r*np.sin(u))\n",
    "\n",
    "def d_l(r, t, x): \n",
    "    a, b = g(r, t)\n",
    "    k = np.abs(t - x) # index of element closest to x can be extracted \n",
    "    return (np.gradient(a, t)[np.argmin(k)]**2 + np.gradient(b, t)[np.argmin(k)]**2)**0.5  # gradeint as function of x, effectively\n",
    "\n",
    "def integrand(x, r): # integrand as function of x\n",
    "    v=np.linspace(0, 2*np.pi, 100)\n",
    "    return f(float(g(r, x)[0]), float(g(r, x)[0])) * d_l(r, v, x) \n",
    "\n",
    "radius=3**0.5\n",
    "print(quad(integrand, 0, 2 * math.pi, args=(radius,)))\n",
    "    "
   ]
  },
  {
   "cell_type": "markdown",
   "metadata": {},
   "source": [
    "#### 4."
   ]
  },
  {
   "cell_type": "code",
   "execution_count": 1015,
   "metadata": {},
   "outputs": [],
   "source": [
    "import time # to time the execution\n",
    "import numpy as np\n",
    "import matplotlib.pyplot as plt\n",
    "import random"
   ]
  },
  {
   "cell_type": "code",
   "execution_count": 1016,
   "metadata": {},
   "outputs": [],
   "source": [
    "### TODO 1\n",
    "### Load data from data_path\n",
    "### Check the input file spice_locations.txt to understand the Data Format\n",
    "### Return : np array of size Nx2\n",
    "def load_data(data_path):\n",
    "    return np.loadtxt(data_path, delimiter=',')\n"
   ]
  },
  {
   "cell_type": "code",
   "execution_count": 1017,
   "metadata": {},
   "outputs": [],
   "source": [
    "### TODO 2.1\n",
    "### If init_centers is None, initialize the centers by selecting K data points at random without replacement\n",
    "### Else, use the centers provided in init_centers\n",
    "### Return : np array of size Kx2\n",
    "def initialise_centers(data, K, init_centers = None):\n",
    "    if init_centers:\n",
    "        return init_centers\n",
    "    else:\n",
    "          return data[np.random.choice(data.shape[0], K, replace=False)]"
   ]
  },
  {
   "cell_type": "code",
   "execution_count": 1018,
   "metadata": {},
   "outputs": [],
   "source": [
    "### TODO 2.2\n",
    "### Initialize the labels to all ones to size (N,) where N is the number of data points\n",
    "### Return : np array of size N\n",
    "def initialise_labels(data):\n",
    "    return np.ones(data.shape[0])"
   ]
  },
  {
   "cell_type": "code",
   "execution_count": 1019,
   "metadata": {},
   "outputs": [],
   "source": [
    "### TODO 3.1 : E step\n",
    "### For Each data point, find the distance to each center\n",
    "### Return : np array of size NxK\n",
    "def calculate_distances(data, centers):\n",
    "    v = data-np.split(centers, centers.shape[0]) # components of vectors joining centers to points, grouped by center\n",
    "    return ((np.sum(v**2, axis = 2))**0.5).T # transpose for grouping distances by point"
   ]
  },
  {
   "cell_type": "code",
   "execution_count": 1020,
   "metadata": {},
   "outputs": [],
   "source": [
    "### TODO 3.2 : E step\n",
    "### For Each data point, assign the label of the nearest center\n",
    "### Return : np array of size N\n",
    "def update_labels(distances):\n",
    "    return np.argmin(distances, axis  =  1) # indices correspond to center labels (0,1,...K-1)"
   ]
  },
  {
   "cell_type": "code",
   "execution_count": 1021,
   "metadata": {},
   "outputs": [],
   "source": [
    "### TODO 4 : M step\n",
    "### Update the centers to the mean of the data points assigned to it\n",
    "### Return : np array of size Kx2\n",
    "def update_centers(data, labels, K):\n",
    "    x=np.zeros((K,2))\n",
    "    for i in range (K): \n",
    "        x[(i,)]=np.mean(data[(np.argwhere(labels==i),)],axis=0)\n",
    "    return x"
   ]
  },
  {
   "cell_type": "code",
   "execution_count": 1022,
   "metadata": {},
   "outputs": [],
   "source": [
    "### TODO 6 : Check convergence\n",
    "### Check if the labels have changed from the previous iteration\n",
    "### Return : True / False\n",
    "def check_termination(labels1, labels2):\n",
    "    if (labels1 == labels2).all():\n",
    "        return True\n",
    "    else:\n",
    "        return False"
   ]
  },
  {
   "cell_type": "code",
   "execution_count": 1023,
   "metadata": {},
   "outputs": [],
   "source": [
    "### DON'T CHANGE ANYTHING IN THE FOLLOWING FUNCTION\n",
    "def kmeans(data_path:str, K:int, init_centers):\n",
    "    '''\n",
    "    Input :\n",
    "        data (type str): path to the file containing the data\n",
    "        K (type int): number of clusters\n",
    "        init_centers (type numpy.ndarray): initial centers. shape = (K, 2) or None\n",
    "    Output :\n",
    "        centers (type numpy.ndarray): final centers. shape = (K, 2)\n",
    "        labels (type numpy.ndarray): label of each data point. shape = (N,)\n",
    "        time (type float): time taken by the algorithm to converge in seconds\n",
    "    N is the number of data points each of shape (2,)\n",
    "    '''\n",
    "    data = load_data(data_path)    \n",
    "    centers = initialise_centers(data, K, init_centers)\n",
    "    labels = initialise_labels(data)\n",
    "\n",
    "    start_time = time.time() # Time stamp \n",
    "\n",
    "    while True:\n",
    "        distances = calculate_distances(data, centers)\n",
    "        labels_new = update_labels(distances)\n",
    "        centers = update_centers(data, labels_new, K)\n",
    "        if check_termination(labels, labels_new): break\n",
    "        else: labels = labels_new\n",
    " \n",
    "    end_time = time.time() # Time stamp after the algorithm ends\n",
    "    return centers, labels, end_time - start_time \n"
   ]
  },
  {
   "cell_type": "code",
   "execution_count": 1024,
   "metadata": {},
   "outputs": [],
   "source": [
    "### TODO 7\n",
    "def visualise(data_path, labels, centers):\n",
    "    data = load_data(data_path)\n",
    "\n",
    "    # Scatter plot of the data points\n",
    "    plt.scatter(data[:, 0], data[:, 1], c=labels, s=50, cmap='viridis')\n",
    "    plt.scatter(centers[:, 0], centers[:, 1], c='black', s=200, alpha=0.5)\n",
    "\n",
    "    ### Set title as 'K-means clustering'\n",
    "    \n",
    "    plt.title(str(centers.shape[0])+'-means clustering')\n",
    "    \n",
    "    ### Set xlabel as 'Longitude'\n",
    "    \n",
    "    plt.xlabel('Longitude')\n",
    "    \n",
    "    ### Set ylabel as 'Latitude'\n",
    "    \n",
    "    plt.ylabel('Latitude')\n",
    "\n",
    "    ### Save the plot as 'kmeans.png'\n",
    "    \n",
    "    plt.savefig(fname=(str(centers.shape[0])+'means.png'))\n",
    "\n",
    "\n",
    "    ## DO NOT CHANGE THE FOLLOWING LINE\n",
    "    return plt"
   ]
  },
  {
   "cell_type": "code",
   "execution_count": 1025,
   "metadata": {},
   "outputs": [
    {
     "name": "stdout",
     "output_type": "stream",
     "text": [
      "Time taken for the algorithm to converge: 0.0008862018585205078\n"
     ]
    },
    {
     "data": {
      "text/plain": [
       "<module 'matplotlib.pyplot' from 'c:\\\\Users\\\\Ram Jyothy\\\\AppData\\\\Local\\\\Programs\\\\Python\\\\Python39\\\\lib\\\\site-packages\\\\matplotlib\\\\pyplot.py'>"
      ]
     },
     "execution_count": 1025,
     "metadata": {},
     "output_type": "execute_result"
    },
    {
     "data": {
      "image/png": "[encoded data removed]",
      "text/plain": [
       "<Figure size 640x480 with 1 Axes>"
      ]
     },
     "metadata": {},
     "output_type": "display_data"
    }
   ],
   "source": [
    "### After you have completed the above functions, run the following code to generate the plot\n",
    "data_path = 'spice_locations.txt'\n",
    "K, init_centers = 2, None\n",
    "centers, labels, time_taken = kmeans(data_path, K, init_centers)\n",
    "print('Time taken for the algorithm to converge:', time_taken)\n",
    "visualise(data_path, labels, centers)"
   ]
  }
 ],
 "metadata": {
  "kernelspec": {
   "display_name": "Python 3",
   "language": "python",
   "name": "python3"
  },
  "language_info": {
   "codemirror_mode": {
    "name": "ipython",
    "version": 3
   },
   "file_extension": ".py",
   "mimetype": "text/x-python",
   "name": "python",
   "nbconvert_exporter": "python",
   "pygments_lexer": "ipython3",
   "version": "3.9.13"
  }
 },
 "nbformat": 4,
 "nbformat_minor": 2
}
